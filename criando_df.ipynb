{
 "cells": [
  {
   "cell_type": "code",
   "execution_count": 69,
   "metadata": {},
   "outputs": [],
   "source": [
    "import numpy as np\n",
    "import pandas as pd"
   ]
  },
  {
   "cell_type": "code",
   "execution_count": 70,
   "metadata": {},
   "outputs": [],
   "source": [
    "SessionID = []\n",
    "Click_Image = []\n",
    "Read_Reviews = []\n",
    "Category_View = []\n",
    "Read_Details = []\n",
    "Video_View = []\n",
    "Add_to_List = []\n",
    "Compare_Products = []\n",
    "View_Similar = []\n",
    "Save_for_Later = []\n",
    "Personalized = []\n",
    "Buy = []"
   ]
  },
  {
   "cell_type": "code",
   "execution_count": 71,
   "metadata": {},
   "outputs": [],
   "source": [
    "SessionID = np.arange(27673, 28673, 1)\n",
    "Click_Image = np.random.randint(0, 2, 1000)\n",
    "Read_Reviews = np.random.randint(0, 2, 1000)\n",
    "Category_View = np.random.randint(0, 2, 1000)\n",
    "Read_Details = np.random.randint(0, 2, 1000)\n",
    "Video_View = np.random.randint(0, 2, 1000)\n",
    "Add_to_List = np.random.randint(0, 2, 1000)\n",
    "Compare_Products = np.random.randint(0, 2, 1000)\n",
    "View_Similar = np.random.randint(0, 2, 1000)\n",
    "Save_for_Later = np.random.randint(0, 2, 1000)\n",
    "Personalized = np.random.randint(0, 2, 1000)\n",
    "Buy = np.random.randint(0, 2, 1000)"
   ]
  },
  {
   "cell_type": "code",
   "execution_count": 72,
   "metadata": {},
   "outputs": [],
   "source": [
    "buy_score = (Click_Image + Read_Reviews + Add_to_List + Compare_Products + View_Similar)\n",
    "\n",
    "probability_of_buy = buy_score / buy_score.max()\n",
    "\n",
    "Buy = np.random.binomial(1, probability_of_buy)"
   ]
  },
  {
   "cell_type": "code",
   "execution_count": 73,
   "metadata": {},
   "outputs": [],
   "source": [
    "df = pd.DataFrame({\n",
    "        'Click_Image' : Click_Image,\n",
    "        'Read_Reviews' : Read_Reviews,\n",
    "        'Category_View' : Category_View,\n",
    "        'Read_Details' : Read_Details,\n",
    "        'Video_View' : Video_View,\n",
    "        'Add_to_List' : Add_to_List,\n",
    "        'Compare_Products' : Compare_Products,\n",
    "        'View_Similar' : View_Similar,\n",
    "        'Save_for_Later' : Save_for_Later,\n",
    "        'Personalized' : Personalized,\n",
    "        'Buy' : Buy\n",
    "}, index=SessionID)"
   ]
  },
  {
   "cell_type": "code",
   "execution_count": 74,
   "metadata": {},
   "outputs": [],
   "source": [
    "df.to_csv('target_app.csv')"
   ]
  }
 ],
 "metadata": {
  "kernelspec": {
   "display_name": "base",
   "language": "python",
   "name": "python3"
  },
  "language_info": {
   "codemirror_mode": {
    "name": "ipython",
    "version": 3
   },
   "file_extension": ".py",
   "mimetype": "text/x-python",
   "name": "python",
   "nbconvert_exporter": "python",
   "pygments_lexer": "ipython3",
   "version": "3.12.4"
  }
 },
 "nbformat": 4,
 "nbformat_minor": 2
}
