{
 "cells": [
  {
   "cell_type": "code",
   "execution_count": 78,
   "metadata": {},
   "outputs": [],
   "source": [
    "import pandas as pd\n",
    "import numpy as np\n",
    "import matplotlib.pylab as plt\n",
    "import os\n",
    "from sklearn.model_selection import train_test_split\n",
    "from sklearn.tree import DecisionTreeClassifier\n",
    "from sklearn.metrics import classification_report\n",
    "from sklearn.naive_bayes import GaussianNB\n",
    "import sklearn.metrics"
   ]
  },
  {
   "cell_type": "code",
   "execution_count": 72,
   "metadata": {},
   "outputs": [
    {
     "data": {
      "text/plain": [
       "Unnamed: 0          int64\n",
       "Click_Image         int64\n",
       "Read_Reviews        int64\n",
       "Category_View       int64\n",
       "Read_Details        int64\n",
       "Video_View          int64\n",
       "Add_to_List         int64\n",
       "Compare_Products    int64\n",
       "View_Similar        int64\n",
       "Save_for_Later      int64\n",
       "Personalized        int64\n",
       "Buy                 int64\n",
       "dtype: object"
      ]
     },
     "execution_count": 72,
     "metadata": {},
     "output_type": "execute_result"
    }
   ],
   "source": [
    "df = pd.read_csv('target_app.csv')\n",
    "df.dtypes"
   ]
  },
  {
   "cell_type": "code",
   "execution_count": 73,
   "metadata": {},
   "outputs": [
    {
     "data": {
      "text/html": [
       "<div>\n",
       "<style scoped>\n",
       "    .dataframe tbody tr th:only-of-type {\n",
       "        vertical-align: middle;\n",
       "    }\n",
       "\n",
       "    .dataframe tbody tr th {\n",
       "        vertical-align: top;\n",
       "    }\n",
       "\n",
       "    .dataframe thead th {\n",
       "        text-align: right;\n",
       "    }\n",
       "</style>\n",
       "<table border=\"1\" class=\"dataframe\">\n",
       "  <thead>\n",
       "    <tr style=\"text-align: right;\">\n",
       "      <th></th>\n",
       "      <th>SessionID</th>\n",
       "      <th>Click_Image</th>\n",
       "      <th>Read_Reviews</th>\n",
       "      <th>Category_View</th>\n",
       "      <th>Read_Details</th>\n",
       "      <th>Video_View</th>\n",
       "      <th>Add_to_List</th>\n",
       "      <th>Compare_Products</th>\n",
       "      <th>View_Similar</th>\n",
       "      <th>Save_for_Later</th>\n",
       "      <th>Personalized</th>\n",
       "      <th>Buy</th>\n",
       "    </tr>\n",
       "  </thead>\n",
       "  <tbody>\n",
       "    <tr>\n",
       "      <th>0</th>\n",
       "      <td>27673</td>\n",
       "      <td>0</td>\n",
       "      <td>1</td>\n",
       "      <td>1</td>\n",
       "      <td>0</td>\n",
       "      <td>1</td>\n",
       "      <td>1</td>\n",
       "      <td>1</td>\n",
       "      <td>1</td>\n",
       "      <td>1</td>\n",
       "      <td>1</td>\n",
       "      <td>1</td>\n",
       "    </tr>\n",
       "    <tr>\n",
       "      <th>1</th>\n",
       "      <td>27674</td>\n",
       "      <td>0</td>\n",
       "      <td>0</td>\n",
       "      <td>1</td>\n",
       "      <td>0</td>\n",
       "      <td>1</td>\n",
       "      <td>0</td>\n",
       "      <td>1</td>\n",
       "      <td>0</td>\n",
       "      <td>0</td>\n",
       "      <td>0</td>\n",
       "      <td>0</td>\n",
       "    </tr>\n",
       "    <tr>\n",
       "      <th>2</th>\n",
       "      <td>27675</td>\n",
       "      <td>1</td>\n",
       "      <td>0</td>\n",
       "      <td>1</td>\n",
       "      <td>1</td>\n",
       "      <td>0</td>\n",
       "      <td>1</td>\n",
       "      <td>0</td>\n",
       "      <td>1</td>\n",
       "      <td>1</td>\n",
       "      <td>1</td>\n",
       "      <td>1</td>\n",
       "    </tr>\n",
       "    <tr>\n",
       "      <th>3</th>\n",
       "      <td>27676</td>\n",
       "      <td>1</td>\n",
       "      <td>1</td>\n",
       "      <td>1</td>\n",
       "      <td>0</td>\n",
       "      <td>1</td>\n",
       "      <td>0</td>\n",
       "      <td>0</td>\n",
       "      <td>0</td>\n",
       "      <td>1</td>\n",
       "      <td>1</td>\n",
       "      <td>0</td>\n",
       "    </tr>\n",
       "    <tr>\n",
       "      <th>4</th>\n",
       "      <td>27677</td>\n",
       "      <td>1</td>\n",
       "      <td>1</td>\n",
       "      <td>1</td>\n",
       "      <td>1</td>\n",
       "      <td>0</td>\n",
       "      <td>0</td>\n",
       "      <td>0</td>\n",
       "      <td>1</td>\n",
       "      <td>0</td>\n",
       "      <td>1</td>\n",
       "      <td>1</td>\n",
       "    </tr>\n",
       "  </tbody>\n",
       "</table>\n",
       "</div>"
      ],
      "text/plain": [
       "   SessionID  Click_Image  Read_Reviews  Category_View  Read_Details  \\\n",
       "0      27673            0             1              1             0   \n",
       "1      27674            0             0              1             0   \n",
       "2      27675            1             0              1             1   \n",
       "3      27676            1             1              1             0   \n",
       "4      27677            1             1              1             1   \n",
       "\n",
       "   Video_View  Add_to_List  Compare_Products  View_Similar  Save_for_Later  \\\n",
       "0           1            1                 1             1               1   \n",
       "1           1            0                 1             0               0   \n",
       "2           0            1                 0             1               1   \n",
       "3           1            0                 0             0               1   \n",
       "4           0            0                 0             1               0   \n",
       "\n",
       "   Personalized  Buy  \n",
       "0             1    1  \n",
       "1             0    0  \n",
       "2             1    1  \n",
       "3             1    0  \n",
       "4             1    1  "
      ]
     },
     "execution_count": 73,
     "metadata": {},
     "output_type": "execute_result"
    }
   ],
   "source": [
    "df = df.rename(columns={'Unnamed: 0': 'SessionID'})\n",
    "df.head()"
   ]
  },
  {
   "cell_type": "code",
   "execution_count": 74,
   "metadata": {},
   "outputs": [
    {
     "data": {
      "text/html": [
       "<div>\n",
       "<style scoped>\n",
       "    .dataframe tbody tr th:only-of-type {\n",
       "        vertical-align: middle;\n",
       "    }\n",
       "\n",
       "    .dataframe tbody tr th {\n",
       "        vertical-align: top;\n",
       "    }\n",
       "\n",
       "    .dataframe thead th {\n",
       "        text-align: right;\n",
       "    }\n",
       "</style>\n",
       "<table border=\"1\" class=\"dataframe\">\n",
       "  <thead>\n",
       "    <tr style=\"text-align: right;\">\n",
       "      <th></th>\n",
       "      <th>SessionID</th>\n",
       "      <th>Click_Image</th>\n",
       "      <th>Read_Reviews</th>\n",
       "      <th>Category_View</th>\n",
       "      <th>Read_Details</th>\n",
       "      <th>Video_View</th>\n",
       "      <th>Add_to_List</th>\n",
       "      <th>Compare_Products</th>\n",
       "      <th>View_Similar</th>\n",
       "      <th>Save_for_Later</th>\n",
       "      <th>Personalized</th>\n",
       "      <th>Buy</th>\n",
       "    </tr>\n",
       "  </thead>\n",
       "  <tbody>\n",
       "    <tr>\n",
       "      <th>count</th>\n",
       "      <td>1000.000000</td>\n",
       "      <td>1000.000000</td>\n",
       "      <td>1000.000000</td>\n",
       "      <td>1000.000000</td>\n",
       "      <td>1000.000000</td>\n",
       "      <td>1000.000000</td>\n",
       "      <td>1000.000000</td>\n",
       "      <td>1000.000000</td>\n",
       "      <td>1000.000000</td>\n",
       "      <td>1000.000000</td>\n",
       "      <td>1000.000000</td>\n",
       "      <td>1000.000000</td>\n",
       "    </tr>\n",
       "    <tr>\n",
       "      <th>mean</th>\n",
       "      <td>28172.500000</td>\n",
       "      <td>0.516000</td>\n",
       "      <td>0.497000</td>\n",
       "      <td>0.499000</td>\n",
       "      <td>0.492000</td>\n",
       "      <td>0.511000</td>\n",
       "      <td>0.478000</td>\n",
       "      <td>0.496000</td>\n",
       "      <td>0.479000</td>\n",
       "      <td>0.496000</td>\n",
       "      <td>0.532000</td>\n",
       "      <td>0.536000</td>\n",
       "    </tr>\n",
       "    <tr>\n",
       "      <th>std</th>\n",
       "      <td>288.819436</td>\n",
       "      <td>0.499994</td>\n",
       "      <td>0.500241</td>\n",
       "      <td>0.500249</td>\n",
       "      <td>0.500186</td>\n",
       "      <td>0.500129</td>\n",
       "      <td>0.499766</td>\n",
       "      <td>0.500234</td>\n",
       "      <td>0.499809</td>\n",
       "      <td>0.500234</td>\n",
       "      <td>0.499225</td>\n",
       "      <td>0.498952</td>\n",
       "    </tr>\n",
       "    <tr>\n",
       "      <th>min</th>\n",
       "      <td>27673.000000</td>\n",
       "      <td>0.000000</td>\n",
       "      <td>0.000000</td>\n",
       "      <td>0.000000</td>\n",
       "      <td>0.000000</td>\n",
       "      <td>0.000000</td>\n",
       "      <td>0.000000</td>\n",
       "      <td>0.000000</td>\n",
       "      <td>0.000000</td>\n",
       "      <td>0.000000</td>\n",
       "      <td>0.000000</td>\n",
       "      <td>0.000000</td>\n",
       "    </tr>\n",
       "    <tr>\n",
       "      <th>25%</th>\n",
       "      <td>27922.750000</td>\n",
       "      <td>0.000000</td>\n",
       "      <td>0.000000</td>\n",
       "      <td>0.000000</td>\n",
       "      <td>0.000000</td>\n",
       "      <td>0.000000</td>\n",
       "      <td>0.000000</td>\n",
       "      <td>0.000000</td>\n",
       "      <td>0.000000</td>\n",
       "      <td>0.000000</td>\n",
       "      <td>0.000000</td>\n",
       "      <td>0.000000</td>\n",
       "    </tr>\n",
       "    <tr>\n",
       "      <th>50%</th>\n",
       "      <td>28172.500000</td>\n",
       "      <td>1.000000</td>\n",
       "      <td>0.000000</td>\n",
       "      <td>0.000000</td>\n",
       "      <td>0.000000</td>\n",
       "      <td>1.000000</td>\n",
       "      <td>0.000000</td>\n",
       "      <td>0.000000</td>\n",
       "      <td>0.000000</td>\n",
       "      <td>0.000000</td>\n",
       "      <td>1.000000</td>\n",
       "      <td>1.000000</td>\n",
       "    </tr>\n",
       "    <tr>\n",
       "      <th>75%</th>\n",
       "      <td>28422.250000</td>\n",
       "      <td>1.000000</td>\n",
       "      <td>1.000000</td>\n",
       "      <td>1.000000</td>\n",
       "      <td>1.000000</td>\n",
       "      <td>1.000000</td>\n",
       "      <td>1.000000</td>\n",
       "      <td>1.000000</td>\n",
       "      <td>1.000000</td>\n",
       "      <td>1.000000</td>\n",
       "      <td>1.000000</td>\n",
       "      <td>1.000000</td>\n",
       "    </tr>\n",
       "    <tr>\n",
       "      <th>max</th>\n",
       "      <td>28672.000000</td>\n",
       "      <td>1.000000</td>\n",
       "      <td>1.000000</td>\n",
       "      <td>1.000000</td>\n",
       "      <td>1.000000</td>\n",
       "      <td>1.000000</td>\n",
       "      <td>1.000000</td>\n",
       "      <td>1.000000</td>\n",
       "      <td>1.000000</td>\n",
       "      <td>1.000000</td>\n",
       "      <td>1.000000</td>\n",
       "      <td>1.000000</td>\n",
       "    </tr>\n",
       "  </tbody>\n",
       "</table>\n",
       "</div>"
      ],
      "text/plain": [
       "          SessionID  Click_Image  Read_Reviews  Category_View  Read_Details  \\\n",
       "count   1000.000000  1000.000000   1000.000000    1000.000000   1000.000000   \n",
       "mean   28172.500000     0.516000      0.497000       0.499000      0.492000   \n",
       "std      288.819436     0.499994      0.500241       0.500249      0.500186   \n",
       "min    27673.000000     0.000000      0.000000       0.000000      0.000000   \n",
       "25%    27922.750000     0.000000      0.000000       0.000000      0.000000   \n",
       "50%    28172.500000     1.000000      0.000000       0.000000      0.000000   \n",
       "75%    28422.250000     1.000000      1.000000       1.000000      1.000000   \n",
       "max    28672.000000     1.000000      1.000000       1.000000      1.000000   \n",
       "\n",
       "        Video_View  Add_to_List  Compare_Products  View_Similar  \\\n",
       "count  1000.000000  1000.000000       1000.000000   1000.000000   \n",
       "mean      0.511000     0.478000          0.496000      0.479000   \n",
       "std       0.500129     0.499766          0.500234      0.499809   \n",
       "min       0.000000     0.000000          0.000000      0.000000   \n",
       "25%       0.000000     0.000000          0.000000      0.000000   \n",
       "50%       1.000000     0.000000          0.000000      0.000000   \n",
       "75%       1.000000     1.000000          1.000000      1.000000   \n",
       "max       1.000000     1.000000          1.000000      1.000000   \n",
       "\n",
       "       Save_for_Later  Personalized          Buy  \n",
       "count     1000.000000   1000.000000  1000.000000  \n",
       "mean         0.496000      0.532000     0.536000  \n",
       "std          0.500234      0.499225     0.498952  \n",
       "min          0.000000      0.000000     0.000000  \n",
       "25%          0.000000      0.000000     0.000000  \n",
       "50%          0.000000      1.000000     1.000000  \n",
       "75%          1.000000      1.000000     1.000000  \n",
       "max          1.000000      1.000000     1.000000  "
      ]
     },
     "execution_count": 74,
     "metadata": {},
     "output_type": "execute_result"
    }
   ],
   "source": [
    "df.describe()"
   ]
  },
  {
   "cell_type": "code",
   "execution_count": 75,
   "metadata": {},
   "outputs": [
    {
     "data": {
      "text/plain": [
       "SessionID          -0.016845\n",
       "Click_Image         0.202324\n",
       "Read_Reviews        0.227025\n",
       "Category_View      -0.082069\n",
       "Read_Details       -0.054998\n",
       "Video_View          0.012451\n",
       "Add_to_List         0.167765\n",
       "Compare_Products    0.189073\n",
       "View_Similar        0.225809\n",
       "Save_for_Later     -0.023486\n",
       "Personalized       -0.036779\n",
       "Buy                 1.000000\n",
       "Name: Buy, dtype: float64"
      ]
     },
     "execution_count": 75,
     "metadata": {},
     "output_type": "execute_result"
    }
   ],
   "source": [
    "df.corr()['Buy']"
   ]
  },
  {
   "cell_type": "code",
   "execution_count": 76,
   "metadata": {},
   "outputs": [],
   "source": [
    "X = df[['Click_Image', 'Read_Reviews', 'Add_to_List', 'Compare_Products', 'View_Similar']]\n",
    "Y = df.Buy"
   ]
  },
  {
   "cell_type": "code",
   "execution_count": 77,
   "metadata": {},
   "outputs": [
    {
     "name": "stdout",
     "output_type": "stream",
     "text": [
      "\n",
      "TAMANHOS\n",
      "      X train : (800, 5)\n",
      "      X test : (200, 5)\n",
      "      Y train : (800,)\n",
      "      Y test : (200,)\n",
      "\n"
     ]
    }
   ],
   "source": [
    "X_train, X_test, Y_train, Y_test = train_test_split(X, Y, test_size=0.2, random_state=319)\n",
    "print(f'''\n",
    "TAMANHOS\n",
    "      X train : {X_train.shape}\n",
    "      X test : {X_test.shape}\n",
    "      Y train : {Y_train.shape}\n",
    "      Y test : {Y_test.shape}\n",
    "''')"
   ]
  },
  {
   "cell_type": "code",
   "execution_count": 79,
   "metadata": {},
   "outputs": [
    {
     "data": {
      "text/plain": [
       "array([[58, 28],\n",
       "       [35, 79]], dtype=int64)"
      ]
     },
     "execution_count": 79,
     "metadata": {},
     "output_type": "execute_result"
    }
   ],
   "source": [
    "classifier = GaussianNB()\n",
    "classifier = classifier.fit(X_train, Y_train)\n",
    "\n",
    "y_pred = classifier.predict(X_test)\n",
    "\n",
    "sklearn.metrics.confusion_matrix(Y_test, y_pred)"
   ]
  },
  {
   "cell_type": "code",
   "execution_count": 80,
   "metadata": {},
   "outputs": [
    {
     "data": {
      "text/plain": [
       "0.685"
      ]
     },
     "execution_count": 80,
     "metadata": {},
     "output_type": "execute_result"
    }
   ],
   "source": [
    "sklearn.metrics.accuracy_score(Y_test, y_pred)"
   ]
  },
  {
   "cell_type": "code",
   "execution_count": 83,
   "metadata": {},
   "outputs": [
    {
     "data": {
      "text/plain": [
       "0.6564418448942765"
      ]
     },
     "execution_count": 83,
     "metadata": {},
     "output_type": "execute_result"
    }
   ],
   "source": [
    "y_prob = classifier.predict_proba(X_test)\n",
    "y_prob[0,1]"
   ]
  },
  {
   "cell_type": "code",
   "execution_count": 86,
   "metadata": {},
   "outputs": [
    {
     "name": "stdout",
     "output_type": "stream",
     "text": [
      "Propensidade de Compra do Novo Usuário: [0.91554759]\n"
     ]
    },
    {
     "name": "stderr",
     "output_type": "stream",
     "text": [
      "c:\\Users\\Computador\\anaconda3\\Lib\\site-packages\\sklearn\\base.py:493: UserWarning: X does not have valid feature names, but GaussianNB was fitted with feature names\n",
      "  warnings.warn(\n"
     ]
    }
   ],
   "source": [
    "# browsing_data = np.array([0,0,0,0,0]).reshape(1,-1)\n",
    "browsing_data = np.array([1,1,1,1,1]).reshape(1,-1)\n",
    "print(f'Propensidade de Compra do Novo Usuário: {classifier.predict_proba(browsing_data)[:,1]}')"
   ]
  },
  {
   "cell_type": "code",
   "execution_count": null,
   "metadata": {},
   "outputs": [],
   "source": []
  }
 ],
 "metadata": {
  "kernelspec": {
   "display_name": "base",
   "language": "python",
   "name": "python3"
  },
  "language_info": {
   "codemirror_mode": {
    "name": "ipython",
    "version": 3
   },
   "file_extension": ".py",
   "mimetype": "text/x-python",
   "name": "python",
   "nbconvert_exporter": "python",
   "pygments_lexer": "ipython3",
   "version": "3.12.4"
  }
 },
 "nbformat": 4,
 "nbformat_minor": 2
}
